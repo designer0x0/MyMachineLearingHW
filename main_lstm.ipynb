{
 "cells": [
  {
   "cell_type": "code",
   "execution_count": 2,
   "metadata": {
    "collapsed": false
   },
   "outputs": [
    {
     "name": "stdout",
     "output_type": "stream",
     "text": [
      "Couldn't import dot_parser, loading of dot files will not be possible.\n"
     ]
    }
   ],
   "source": [
    "# The first steps:\n",
    "# Will ingest/clean data and create/load the following:\n",
    "# 1. cleaned text translated to array of word indices: imdb_indices.pickle\n",
    "# 2. word2vec model, where the indices/word vecs are stored:  300features_40minwords_10context\n",
    "# 3. word embeddings: this is the index to wordvec mapping derived from 2.\n",
    "\n",
    "\n",
    "from lib import features_word2vec, model_lstm_tf\n",
    "import pandas as pd\n",
    "import os\n",
    "\n",
    "labeled_data_path = \"./data/labeledTrainData.tsv\"\n",
    "unlabeled_data_path = \"./data/unlabeledTrainData.tsv\"\n",
    "model_path = \"./model/300features_40minwords_10context\"\n",
    "embedding_path = \"./model/embedding_weights.pkl\"\n",
    "text2indices_path = \"./model/imdb_indices.pickle\"\n",
    "\n",
    "\n",
    "def data_prep():\n",
    "    # Read data\n",
    "    # Use the kaggle Bag of words vs Bag of popcorn data:\n",
    "    # https://www.kaggle.com/c/word2vec-nlp-tutorial/data\n",
    "\n",
    "    data = pd.read_csv(labeled_data_path, header=0,\n",
    "                       delimiter=\"\\t\", quoting=3, encoding=\"utf-8\")\n",
    "\n",
    "    data2 = pd.read_csv(unlabeled_data_path, header=0,\n",
    "                        delimiter=\"\\t\", quoting=3, encoding=\"utf-8\")\n",
    "\n",
    "    # data2 and data are combined to train word2vec model\n",
    "    data2 = data.append(data2)\n",
    "\n",
    "    model = features_word2vec.get_word2vec_model(data2, \"review\", num_features=300, downsampling=1e-3, model_path=model_path)\n",
    "    embedding_weights = features_word2vec.create_embedding_weights(model)\n",
    "    features = features_word2vec.get_indices_word2vec(data, \"review\", model, maxLength=500,\n",
    "                                                      writeIndexFileName=\"./model/imdb_indices.pickle\", padLeft=True)\n",
    "    return model, embedding_weights, features"
   ]
  },
  {
   "cell_type": "code",
   "execution_count": 3,
   "metadata": {
    "collapsed": false
   },
   "outputs": [
    {
     "data": {
      "text/plain": [
       "(<gensim.models.word2vec.Word2Vec at 0x104c1dc50>,\n",
       " array([[ 0.10585845, -0.05332218,  0.02788348, ..., -0.05418135,\n",
       "          0.06534412, -0.0199977 ],\n",
       "        [-0.01134798,  0.00097455, -0.01262519, ...,  0.00096706,\n",
       "         -0.01948956, -0.00314009],\n",
       "        [-0.0214931 , -0.1459033 ,  0.07035182, ..., -0.04496352,\n",
       "          0.04403584, -0.06980642],\n",
       "        ..., \n",
       "        [ 0.06123403, -0.04089059, -0.01340766, ..., -0.03233384,\n",
       "         -0.10336776, -0.0290222 ],\n",
       "        [ 0.        ,  0.        ,  0.        , ...,  0.        ,\n",
       "          0.        ,  0.        ],\n",
       "        [ 0.        ,  0.        ,  0.        , ...,  0.        ,\n",
       "          0.        ,  0.        ]]),\n",
       " array([[   0,    0,    0, ...,   22,    0, 1645],\n",
       "        [   0,    0,    0, ...,   27,   91, 5757],\n",
       "        [   0,    0,    0, ..., 1352,    3, 5403],\n",
       "        ..., \n",
       "        [   0,    0,    0, ...,  231,   27,  333],\n",
       "        [   0,    0,    0, ...,   14,   81,   76],\n",
       "        [   0,    0,    0, ...,   13,    2,  487]], dtype=int32))"
      ]
     },
     "execution_count": 3,
     "metadata": {},
     "output_type": "execute_result"
    }
   ],
   "source": [
    "data_prep()"
   ]
  },
  {
   "cell_type": "code",
   "execution_count": 5,
   "metadata": {
    "collapsed": false
   },
   "outputs": [
    {
     "name": "stdout",
     "output_type": "stream",
     "text": [
      "(128, 64)\n",
      "Epoch 0:\n",
      "\n",
      "Iter 0, Minibatch Loss= 0.690229, Training Accuracy= 0.57031\n",
      "Iter 50, Minibatch Loss= 0.592788, Training Accuracy= 0.64844\n",
      "Iter 100, Minibatch Loss= 0.462448, Training Accuracy= 0.81250\n",
      "Iter 150, Minibatch Loss= 0.456239, Training Accuracy= 0.79688\n",
      "Testing accuracy = 0.52995\n",
      "saved to ./model/pretrained_lstm_tf.model\n",
      "Epoch 1:\n",
      "\n",
      "Iter 0, Minibatch Loss= 1.430585, Training Accuracy= 0.56250\n",
      "Iter 50, Minibatch Loss= 0.674530, Training Accuracy= 0.57812\n",
      "Iter 100, Minibatch Loss= 0.638553, Training Accuracy= 0.67969\n",
      "Iter 150, Minibatch Loss= 0.520375, Training Accuracy= 0.75000\n",
      "Testing accuracy = 0.82378\n",
      "Epoch 2:\n",
      "\n",
      "Iter 0, Minibatch Loss= 0.399270, Training Accuracy= 0.84375\n",
      "Iter 50, Minibatch Loss= 0.443942, Training Accuracy= 0.79688\n",
      "Iter 100, Minibatch Loss= 0.360969, Training Accuracy= 0.83594\n",
      "Iter 150, Minibatch Loss= 0.389484, Training Accuracy= 0.85938\n",
      "Testing accuracy = 0.89844\n",
      "Epoch 3:\n",
      "\n",
      "Iter 0, Minibatch Loss= 0.349237, Training Accuracy= 0.86719\n",
      "Iter 50, Minibatch Loss= 0.375731, Training Accuracy= 0.86719\n",
      "Iter 100, Minibatch Loss= 0.333954, Training Accuracy= 0.84375\n",
      "Iter 150, Minibatch Loss= 0.390951, Training Accuracy= 0.85156\n",
      "Testing accuracy = 0.90234\n",
      "Epoch 4:\n",
      "\n",
      "Iter 0, Minibatch Loss= 0.329136, Training Accuracy= 0.85938\n",
      "Iter 50, Minibatch Loss= 0.381535, Training Accuracy= 0.84375\n",
      "Iter 100, Minibatch Loss= 0.333050, Training Accuracy= 0.87500\n",
      "Iter 150, Minibatch Loss= 0.323877, Training Accuracy= 0.87500\n",
      "Testing accuracy = 0.89800\n",
      "training finished.\n",
      "Testing accuracy = 0.89280\n"
     ]
    }
   ],
   "source": [
    "# Use no attention first \n",
    "# Train with five epochs \n",
    "# For each epoch, print out the accuracy on the hold-out set\n",
    "model1 = model_lstm_tf.LstmTFModel(useAttention=False, restore=False) \n",
    "model1.train_epochs(5)\n",
    "model1.test()"
   ]
  },
  {
   "cell_type": "code",
   "execution_count": 6,
   "metadata": {
    "collapsed": false
   },
   "outputs": [
    {
     "name": "stdout",
     "output_type": "stream",
     "text": [
      "(128, 64)\n",
      "Epoch 0:\n",
      "\n",
      "Iter 0, Minibatch Loss= 0.690287, Training Accuracy= 0.53125\n",
      "Iter 50, Minibatch Loss= 0.518388, Training Accuracy= 0.75000\n",
      "Iter 100, Minibatch Loss= 0.447742, Training Accuracy= 0.81250\n",
      "Iter 150, Minibatch Loss= 0.456062, Training Accuracy= 0.77344\n",
      "Testing accuracy = 0.87066\n",
      "saved to ./model/pretrained_lstm_tf.model\n",
      "Epoch 1:\n",
      "\n",
      "Iter 0, Minibatch Loss= 0.376639, Training Accuracy= 0.83594\n",
      "Iter 50, Minibatch Loss= 0.356565, Training Accuracy= 0.85938\n",
      "Iter 100, Minibatch Loss= 0.359166, Training Accuracy= 0.83594\n",
      "Iter 150, Minibatch Loss= 0.248117, Training Accuracy= 0.92969\n",
      "Testing accuracy = 0.91884\n",
      "Epoch 2:\n",
      "\n",
      "Iter 0, Minibatch Loss= 0.266340, Training Accuracy= 0.89062\n",
      "Iter 50, Minibatch Loss= 0.342623, Training Accuracy= 0.85156\n",
      "Iter 100, Minibatch Loss= 0.279518, Training Accuracy= 0.86719\n",
      "Iter 150, Minibatch Loss= 0.328646, Training Accuracy= 0.86719\n",
      "Testing accuracy = 0.90061\n",
      "Epoch 3:\n",
      "\n",
      "Iter 0, Minibatch Loss= 0.321027, Training Accuracy= 0.87500\n",
      "Iter 50, Minibatch Loss= 0.343837, Training Accuracy= 0.84375\n",
      "Iter 100, Minibatch Loss= 0.214664, Training Accuracy= 0.91406\n",
      "Iter 150, Minibatch Loss= 0.256317, Training Accuracy= 0.90625\n",
      "Testing accuracy = 0.93663\n",
      "Epoch 4:\n",
      "\n",
      "Iter 0, Minibatch Loss= 0.385247, Training Accuracy= 0.85156\n",
      "Iter 50, Minibatch Loss= 0.331194, Training Accuracy= 0.87500\n",
      "Iter 100, Minibatch Loss= 0.209367, Training Accuracy= 0.92969\n",
      "Iter 150, Minibatch Loss= 0.245976, Training Accuracy= 0.89062\n",
      "Testing accuracy = 0.93403\n",
      "training finished.\n",
      "Testing accuracy = 0.93273\n"
     ]
    }
   ],
   "source": [
    "# Now run model with attention \n",
    "model2 = model_lstm_tf.LstmTFModel(useAttention=True, restore=False ) \n",
    "model2.train_epochs(5)\n",
    "model2.test()"
   ]
  },
  {
   "cell_type": "code",
   "execution_count": 7,
   "metadata": {
    "collapsed": false
   },
   "outputs": [
    {
     "name": "stdout",
     "output_type": "stream",
     "text": [
      "INFO:tensorflow:Restoring parameters from ./model/pretrained_lstm_tf.model-0\n"
     ]
    },
    {
     "name": "stderr",
     "output_type": "stream",
     "text": [
      "INFO:tensorflow:Restoring parameters from ./model/pretrained_lstm_tf.model-0\n"
     ]
    },
    {
     "name": "stdout",
     "output_type": "stream",
     "text": [
      "Epoch 0:\n",
      "\n",
      "Iter 0, Minibatch Loss= 0.348454, Training Accuracy= 0.85938\n",
      "Iter 50, Minibatch Loss= 0.386253, Training Accuracy= 0.82031\n",
      "Iter 100, Minibatch Loss= 0.348698, Training Accuracy= 0.87500\n",
      "Iter 150, Minibatch Loss= 0.391788, Training Accuracy= 0.78906\n",
      "Testing accuracy = 0.91363\n",
      "saved to ./model/pretrained_lstm_tf.model\n",
      "training finished.\n",
      "Testing accuracy = 0.91536\n"
     ]
    }
   ],
   "source": [
    "# Now restore checkpoint from model2 \n",
    "# And continue to train for a single epoch \n",
    "model3 = model_lstm_tf.LstmTFModel(useAttention=True, restore=True ) \n",
    "model3.train_epoch(1)\n",
    "model3.test()"
   ]
  },
  {
   "cell_type": "code",
   "execution_count": 25,
   "metadata": {
    "collapsed": false
   },
   "outputs": [
    {
     "name": "stdout",
     "output_type": "stream",
     "text": [
      "(500, 1)\n"
     ]
    },
    {
     "data": {
      "image/png": "[encoded data removed]",
      "text/plain": [
       "<matplotlib.figure.Figure at 0x117647f10>"
      ]
     },
     "metadata": {},
     "output_type": "display_data"
    }
   ],
   "source": [
    "# For this particular text segment, attention is focused on \n",
    "# words indicating positive sentiment, such as \"funny\", and \"enjoy\" \n",
    "model3.plot_attention(ind=16)"
   ]
  },
  {
   "cell_type": "code",
   "execution_count": 42,
   "metadata": {
    "collapsed": false
   },
   "outputs": [
    {
     "name": "stdout",
     "output_type": "stream",
     "text": [
      "(500, 1)\n"
     ]
    },
    {
     "data": {
      "image/png": "[encoded data removed]",
      "text/plain": [
       "<matplotlib.figure.Figure at 0x117954e50>"
      ]
     },
     "metadata": {},
     "output_type": "display_data"
    }
   ],
   "source": [
    "# For this particular text segments, the attention is focused on \n",
    "# a phrase indicating negative sentiment:\n",
    "# \"waste of my life\"\n",
    "model3.plot_attention(ind=10)"
   ]
  }
 ],
 "metadata": {
  "kernelspec": {
   "display_name": "Python 2",
   "language": "python",
   "name": "python2"
  },
  "language_info": {
   "codemirror_mode": {
    "name": "ipython",
    "version": 2
   },
   "file_extension": ".py",
   "mimetype": "text/x-python",
   "name": "python",
   "nbconvert_exporter": "python",
   "pygments_lexer": "ipython2",
   "version": "2.7.11"
  }
 },
 "nbformat": 4,
 "nbformat_minor": 0
}
